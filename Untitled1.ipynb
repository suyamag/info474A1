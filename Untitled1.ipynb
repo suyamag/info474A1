{
 "cells": [
  {
   "cell_type": "markdown",
   "metadata": {},
   "source": [
    "# Assignment 1\n",
    "\n",
    "![alt text](Capture.PNG)\n",
    "\n",
    "The aspect of the data that I am most effectively trying to communicate is the vastly higher amounts of minimum inhibitory concentration(MIC) for Penicilin in Negative Gram Staining bacteria, and the relatively higher amounts of MIC for Streptomycin and Neomycin in the Positive Gram Staining bacteria. This higher level view of the MIC levels is most effective at allowing the reader to notice how MIC changes between the three nominal values.\n",
    "\n",
    "\n",
    "In order to make the bacteria and antibiotic nominal values stand out the most, I used the x and y **positions** respectively. This is the most **effective** way for the users to distinguish these differences. I then used **color/hue** to distinguish the Gram Stain, which is the second most effective way to distinguish nominal values. In addition to color, the data is also rearranged by position to separate the two Gram Stains. I used **Area** to represent the quantitative interval value MIC. While this method does not show the close nuances of the difference in the exact data, it is able to show a high level view on which values are bigger than others. \n",
    "\n",
    "\n",
    "I used a bubble chart to represent all 4 dimensions on this single graph. I found this to be the best way to **express** all of the important features. But because Penicilin had such large outliers, it made a lot of the smaller values harder to see. While the expression of the lower MIC values are lost, I believe that the overall trends revealed by the graph are more important and outweigh this loss.\n",
    "\n",
    "\n",
    "I used Python Pandas and Matplotlib to transform and plot the data."
   ]
  }
 ],
 "metadata": {
  "kernelspec": {
   "display_name": "Python 3",
   "language": "python",
   "name": "python3"
  },
  "language_info": {
   "codemirror_mode": {
    "name": "ipython",
    "version": 3
   },
   "file_extension": ".py",
   "mimetype": "text/x-python",
   "name": "python",
   "nbconvert_exporter": "python",
   "pygments_lexer": "ipython3",
   "version": "3.7.0"
  }
 },
 "nbformat": 4,
 "nbformat_minor": 2
}
